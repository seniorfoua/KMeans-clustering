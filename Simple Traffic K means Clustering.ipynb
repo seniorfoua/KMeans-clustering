{
 "cells": [
  {
   "cell_type": "markdown",
   "metadata": {},
   "source": [
    "# Import Libraries"
   ]
  },
  {
   "cell_type": "code",
   "execution_count": 1,
   "metadata": {},
   "outputs": [],
   "source": [
    "import pandas as pd\n",
    "import pylab as pl\n",
    "from sklearn.cluster import KMeans\n",
    "from sklearn.decomposition import PCA\n"
   ]
  },
  {
   "cell_type": "code",
   "execution_count": 4,
   "metadata": {},
   "outputs": [
    {
     "data": {
      "text/html": [
       "<div>\n",
       "<style scoped>\n",
       "    .dataframe tbody tr th:only-of-type {\n",
       "        vertical-align: middle;\n",
       "    }\n",
       "\n",
       "    .dataframe tbody tr th {\n",
       "        vertical-align: top;\n",
       "    }\n",
       "\n",
       "    .dataframe thead th {\n",
       "        text-align: right;\n",
       "    }\n",
       "</style>\n",
       "<table border=\"1\" class=\"dataframe\">\n",
       "  <thead>\n",
       "    <tr style=\"text-align: right;\">\n",
       "      <th></th>\n",
       "      <th>Year</th>\n",
       "      <th>CP</th>\n",
       "      <th>Estimation_method</th>\n",
       "      <th>Estimation_method_detailed</th>\n",
       "      <th>Region</th>\n",
       "      <th>LocalAuthority</th>\n",
       "      <th>Road</th>\n",
       "      <th>RoadCategory</th>\n",
       "      <th>Easting</th>\n",
       "      <th>Northing</th>\n",
       "      <th>...</th>\n",
       "      <th>BusesCoaches</th>\n",
       "      <th>LightGoodsVehicles</th>\n",
       "      <th>V2AxleRigidHGV</th>\n",
       "      <th>V3AxleRigidHGV</th>\n",
       "      <th>V4or5AxleRigidHGV</th>\n",
       "      <th>V3or4AxleArticHGV</th>\n",
       "      <th>V5AxleArticHGV</th>\n",
       "      <th>V6orMoreAxleArticHGV</th>\n",
       "      <th>AllHGVs</th>\n",
       "      <th>AllMotorVehicles</th>\n",
       "    </tr>\n",
       "  </thead>\n",
       "  <tbody>\n",
       "    <tr>\n",
       "      <th>0</th>\n",
       "      <td>2000</td>\n",
       "      <td>6751</td>\n",
       "      <td>Estimated</td>\n",
       "      <td>Estimated using previous year's AADF on this link</td>\n",
       "      <td>London</td>\n",
       "      <td>City of London</td>\n",
       "      <td>A201</td>\n",
       "      <td>PU</td>\n",
       "      <td>531650</td>\n",
       "      <td>181040</td>\n",
       "      <td>...</td>\n",
       "      <td>42.25</td>\n",
       "      <td>521.12</td>\n",
       "      <td>81.72</td>\n",
       "      <td>4.90</td>\n",
       "      <td>7.62</td>\n",
       "      <td>3.27</td>\n",
       "      <td>2.18</td>\n",
       "      <td>2.18</td>\n",
       "      <td>101.86</td>\n",
       "      <td>3746.83</td>\n",
       "    </tr>\n",
       "    <tr>\n",
       "      <th>1</th>\n",
       "      <td>2000</td>\n",
       "      <td>8618</td>\n",
       "      <td>Estimated</td>\n",
       "      <td>Estimated using previous year's AADF on this link</td>\n",
       "      <td>London</td>\n",
       "      <td>City of London</td>\n",
       "      <td>A3211</td>\n",
       "      <td>PU</td>\n",
       "      <td>533000</td>\n",
       "      <td>180669</td>\n",
       "      <td>...</td>\n",
       "      <td>175.14</td>\n",
       "      <td>758.38</td>\n",
       "      <td>213.92</td>\n",
       "      <td>25.72</td>\n",
       "      <td>43.95</td>\n",
       "      <td>17.01</td>\n",
       "      <td>20.00</td>\n",
       "      <td>14.56</td>\n",
       "      <td>335.17</td>\n",
       "      <td>8456.03</td>\n",
       "    </tr>\n",
       "    <tr>\n",
       "      <th>2</th>\n",
       "      <td>2000</td>\n",
       "      <td>8619</td>\n",
       "      <td>Estimated</td>\n",
       "      <td>Estimated using previous year's AADF on this link</td>\n",
       "      <td>London</td>\n",
       "      <td>City of London</td>\n",
       "      <td>A300</td>\n",
       "      <td>PU</td>\n",
       "      <td>532400</td>\n",
       "      <td>180700</td>\n",
       "      <td>...</td>\n",
       "      <td>13.93</td>\n",
       "      <td>92.04</td>\n",
       "      <td>19.91</td>\n",
       "      <td>3.58</td>\n",
       "      <td>9.03</td>\n",
       "      <td>7.26</td>\n",
       "      <td>2.95</td>\n",
       "      <td>2.31</td>\n",
       "      <td>45.04</td>\n",
       "      <td>757.11</td>\n",
       "    </tr>\n",
       "    <tr>\n",
       "      <th>3</th>\n",
       "      <td>2000</td>\n",
       "      <td>16177</td>\n",
       "      <td>Estimated</td>\n",
       "      <td>Estimated using previous year's AADF on this link</td>\n",
       "      <td>London</td>\n",
       "      <td>City of London</td>\n",
       "      <td>A10</td>\n",
       "      <td>PU</td>\n",
       "      <td>533300</td>\n",
       "      <td>181600</td>\n",
       "      <td>...</td>\n",
       "      <td>171.19</td>\n",
       "      <td>440.36</td>\n",
       "      <td>105.87</td>\n",
       "      <td>3.40</td>\n",
       "      <td>5.85</td>\n",
       "      <td>1.50</td>\n",
       "      <td>0.95</td>\n",
       "      <td>1.91</td>\n",
       "      <td>119.48</td>\n",
       "      <td>3437.25</td>\n",
       "    </tr>\n",
       "    <tr>\n",
       "      <th>4</th>\n",
       "      <td>2000</td>\n",
       "      <td>16400</td>\n",
       "      <td>Estimated</td>\n",
       "      <td>Estimated from nearby links</td>\n",
       "      <td>London</td>\n",
       "      <td>City of London</td>\n",
       "      <td>A40</td>\n",
       "      <td>PU</td>\n",
       "      <td>532050</td>\n",
       "      <td>181300</td>\n",
       "      <td>...</td>\n",
       "      <td>6.60</td>\n",
       "      <td>74.91</td>\n",
       "      <td>12.29</td>\n",
       "      <td>1.09</td>\n",
       "      <td>0.20</td>\n",
       "      <td>0.27</td>\n",
       "      <td>0.16</td>\n",
       "      <td>0.14</td>\n",
       "      <td>14.15</td>\n",
       "      <td>614.06</td>\n",
       "    </tr>\n",
       "  </tbody>\n",
       "</table>\n",
       "<p>5 rows × 26 columns</p>\n",
       "</div>"
      ],
      "text/plain": [
       "   Year     CP Estimation_method  \\\n",
       "0  2000   6751         Estimated   \n",
       "1  2000   8618         Estimated   \n",
       "2  2000   8619         Estimated   \n",
       "3  2000  16177         Estimated   \n",
       "4  2000  16400         Estimated   \n",
       "\n",
       "                          Estimation_method_detailed  Region  LocalAuthority  \\\n",
       "0  Estimated using previous year's AADF on this link  London  City of London   \n",
       "1  Estimated using previous year's AADF on this link  London  City of London   \n",
       "2  Estimated using previous year's AADF on this link  London  City of London   \n",
       "3  Estimated using previous year's AADF on this link  London  City of London   \n",
       "4                        Estimated from nearby links  London  City of London   \n",
       "\n",
       "    Road RoadCategory  Easting  Northing  ... BusesCoaches LightGoodsVehicles  \\\n",
       "0   A201           PU   531650    181040  ...        42.25             521.12   \n",
       "1  A3211           PU   533000    180669  ...       175.14             758.38   \n",
       "2   A300           PU   532400    180700  ...        13.93              92.04   \n",
       "3    A10           PU   533300    181600  ...       171.19             440.36   \n",
       "4    A40           PU   532050    181300  ...         6.60              74.91   \n",
       "\n",
       "   V2AxleRigidHGV  V3AxleRigidHGV  V4or5AxleRigidHGV  V3or4AxleArticHGV  \\\n",
       "0           81.72            4.90               7.62               3.27   \n",
       "1          213.92           25.72              43.95              17.01   \n",
       "2           19.91            3.58               9.03               7.26   \n",
       "3          105.87            3.40               5.85               1.50   \n",
       "4           12.29            1.09               0.20               0.27   \n",
       "\n",
       "   V5AxleArticHGV  V6orMoreAxleArticHGV  AllHGVs  AllMotorVehicles  \n",
       "0            2.18                  2.18   101.86           3746.83  \n",
       "1           20.00                 14.56   335.17           8456.03  \n",
       "2            2.95                  2.31    45.04            757.11  \n",
       "3            0.95                  1.91   119.48           3437.25  \n",
       "4            0.16                  0.14    14.15            614.06  \n",
       "\n",
       "[5 rows x 26 columns]"
      ]
     },
     "execution_count": 4,
     "metadata": {},
     "output_type": "execute_result"
    }
   ],
   "source": [
    "data = pd.read_csv('cityoflondon.csv')\n",
    "data.head()"
   ]
  },
  {
   "cell_type": "code",
   "execution_count": 5,
   "metadata": {},
   "outputs": [],
   "source": [
    "Y = data[['CarsTaxis']]\n",
    "X = data[['PedalCycles']]\n",
    "StartJunction = data[['StartJunction']]\n",
    "EndJunction = data[['EndJunction']]"
   ]
  },
  {
   "cell_type": "code",
   "execution_count": 6,
   "metadata": {
    "scrolled": true
   },
   "outputs": [
    {
     "data": {
      "image/png": "[encoded data removed]",
      "text/plain": [
       "<Figure size 432x288 with 1 Axes>"
      ]
     },
     "metadata": {
      "needs_background": "light"
     },
     "output_type": "display_data"
    }
   ],
   "source": [
    "X_norm = (X - X.mean()) / (X.max() - X.min())\n",
    "Y_norm = (Y - Y.mean()) / (Y.max() - Y.min())\n",
    "pl.scatter(Y_norm,X_norm)\n",
    "pl.show()"
   ]
  },
  {
   "cell_type": "code",
   "execution_count": 7,
   "metadata": {
    "scrolled": true
   },
   "outputs": [
    {
     "data": {
      "image/png": "[encoded data removed]",
      "text/plain": [
       "<Figure size 432x288 with 1 Axes>"
      ]
     },
     "metadata": {
      "needs_background": "light"
     },
     "output_type": "display_data"
    }
   ],
   "source": [
    "Nc = range(1, 20)\n",
    "kmeans = [KMeans(n_clusters=i) for i in Nc]\n",
    "kmeans\n",
    "score = [kmeans[i].fit(Y_norm).score(Y_norm) for i in range(len(kmeans))]\n",
    "score\n",
    "pl.plot(Nc,score)\n",
    "pl.xlabel('Number of Clusters')\n",
    "pl.ylabel('Score')\n",
    "pl.title('Elbow Curve')\n",
    "pl.show()"
   ]
  },
  {
   "cell_type": "code",
   "execution_count": 8,
   "metadata": {},
   "outputs": [
    {
     "data": {
      "image/png": "[encoded data removed]",
      "text/plain": [
       "<Figure size 432x288 with 1 Axes>"
      ]
     },
     "metadata": {
      "needs_background": "light"
     },
     "output_type": "display_data"
    }
   ],
   "source": [
    "pca = PCA(n_components=1).fit(Y_norm)\n",
    "pca_d = pca.transform(Y_norm)\n",
    "pca_c = pca.transform(X_norm)\n",
    "\n",
    "kmeans=KMeans(n_clusters=6)\n",
    "kmeansoutput=kmeans.fit(Y_norm)\n",
    "kmeansoutput\n",
    "pl.figure('6 Cluster K-Means')\n",
    "pl.scatter(pca_d[:, 0], pca_c[:, 0], c=kmeansoutput.labels_)\n",
    "\n",
    "labels=kmeansoutput.labels_\n",
    "labels=pd.DataFrame(labels)\n",
    "\n",
    "frames = [StartJunction, EndJunction, labels]\n",
    "result = pd.concat(frames)\n",
    "\n",
    "pl.xlabel('Cycles')\n",
    "pl.ylabel('Cars and Taxis')\n",
    "pl.title('6 Cluster K-Means')\n",
    "pl.show()"
   ]
  },
  {
   "cell_type": "code",
   "execution_count": null,
   "metadata": {},
   "outputs": [],
   "source": []
  }
 ],
 "metadata": {
  "kernelspec": {
   "display_name": "Python 3.7 (tensorflow)",
   "language": "python",
   "name": "tensorflow"
  },
  "language_info": {
   "codemirror_mode": {
    "name": "ipython",
    "version": 3
   },
   "file_extension": ".py",
   "mimetype": "text/x-python",
   "name": "python",
   "nbconvert_exporter": "python",
   "pygments_lexer": "ipython3",
   "version": "3.7.6"
  }
 },
 "nbformat": 4,
 "nbformat_minor": 4
}
